{
  "cells": [
    {
      "cell_type": "code",
      "execution_count": null,
      "metadata": {
        "id": "H1dTcNbDt2WG"
      },
      "outputs": [],
      "source": [
        "# import os\n",
        "# import shutil\n",
        "# from sklearn.model_selection import train_test_split\n",
        "\n",
        "# input_dir = '/content/drive/MyDrive/final'\n",
        "# output_dir = '/content/drive/MyDrive/dataset'\n",
        "# classes = ['100', '200', '500', '2000']\n",
        "\n",
        "# train_ratio = 0.7\n",
        "# val_ratio = 0.15\n",
        "# test_ratio = 0.15\n",
        "\n",
        "# for split in ['train', 'val', 'test']:\n",
        "#     for cls in classes:\n",
        "#         os.makedirs(os.path.join(output_dir, split, cls), exist_ok=True)\n",
        "\n",
        "# for cls in classes:\n",
        "#     cls_path = os.path.join(input_dir, cls)\n",
        "#     images = [f for f in os.listdir(cls_path) if f.endswith('.jpg')]\n",
        "#     full_paths = [os.path.join(cls_path, f) for f in images]\n",
        "\n",
        "#     train_imgs, temp_imgs = train_test_split(full_paths, train_size=train_ratio, random_state=42)\n",
        "#     val_imgs, test_imgs = train_test_split(temp_imgs, test_size=test_ratio / (val_ratio + test_ratio), random_state=42)\n",
        "\n",
        "#     for img_path in train_imgs:\n",
        "#         shutil.copy(img_path, os.path.join(output_dir, 'train', cls))\n",
        "#     for img_path in val_imgs:\n",
        "#         shutil.copy(img_path, os.path.join(output_dir, 'val', cls))\n",
        "#     for img_path in test_imgs:\n",
        "#         shutil.copy(img_path, os.path.join(output_dir, 'test', cls))\n",
        "\n",
        "# print(\"Dataset split complete!\", output_dir)\n"
      ]
    },
    {
      "cell_type": "code",
      "execution_count": null,
      "metadata": {
        "id": "6bM6HQdO5Z0i"
      },
      "outputs": [],
      "source": [
        "import cv2\n",
        "import numpy as np\n",
        "import os\n",
        "\n",
        "image_size = 512\n",
        "\n",
        "def get_data(data_dir):\n",
        "    images = []\n",
        "    img_labels = []\n",
        "    class_names = sorted(os.listdir(data_dir))\n",
        "\n",
        "    for label in class_names:\n",
        "        path = os.path.join(data_dir, label)\n",
        "        class_num = class_names.index(label)\n",
        "\n",
        "        for img in os.listdir(path):\n",
        "            try:\n",
        "                img_path = os.path.join(path, img)\n",
        "                img_arr = cv2.imread(img_path)\n",
        "                if img_arr is None:\n",
        "                    continue\n",
        "\n",
        "                resized_arr = cv2.resize(cv2.cvtColor(img_arr, cv2.COLOR_BGR2RGB), (image_size, image_size))\n",
        "                images.append(resized_arr)\n",
        "                img_labels.append(class_num)\n",
        "            except Exception as e:\n",
        "                print(f\"Error with {img_path}: {e}\")\n",
        "\n",
        "    return np.array(images), np.array(img_labels), class_names\n"
      ]
    },
    {
      "cell_type": "markdown",
      "metadata": {
        "id": "bzsPNj8O6wxl"
      },
      "source": [
        "# **EDA**\n",
        "\n",
        "\n",
        "1.   check for class imbalence\n",
        "2.    check for that all classes are present\n",
        "\n",
        "\n",
        "\n"
      ]
    },
    {
      "cell_type": "code",
      "execution_count": null,
      "metadata": {
        "colab": {
          "base_uri": "https://localhost:8080/",
          "height": 427
        },
        "id": "OYuCMz496rcz",
        "outputId": "2bed9569-3dd9-4f2c-a745-e404bcd4928e"
      },
      "outputs": [
        {
          "data": {
            "image/png": "[encoded data removed]",
            "text/plain": [
              "<Figure size 1000x500 with 1 Axes>"
            ]
          },
          "metadata": {},
          "output_type": "display_data"
        }
      ],
      "source": [
        "import os\n",
        "import matplotlib.pyplot as plt\n",
        "\n",
        "base_dir = '/content/drive/MyDrive/dataset/train'\n",
        "classes = sorted(os.listdir(base_dir))\n",
        "\n",
        "\n",
        "class_counts = {}\n",
        "for c in classes:\n",
        "    class_counts[c] = len(os.listdir(os.path.join(base_dir, c)))\n",
        "\n",
        "plt.figure(figsize=(10, 5))\n",
        "plt.bar(class_counts.keys(), class_counts.values(), color='teal')\n",
        "plt.title('Image Count per Currency Class')\n",
        "plt.xticks(rotation=45)\n",
        "plt.ylabel('Number of Images')\n",
        "plt.show()\n"
      ]
    },
    {
      "cell_type": "markdown",
      "metadata": {
        "id": "YFCPVn3k7GlO"
      },
      "source": [
        "# **Preprocessing**\n",
        "1.   loading data in to train,val,test\n",
        "2.   normalize the images according to the architecture like vgg_16,mobilenet\n",
        "3.   onehotencoding on class labels\n",
        "    \n",
        "\n",
        "\n"
      ]
    },
    {
      "cell_type": "code",
      "execution_count": null,
      "metadata": {
        "colab": {
          "background_save": true
        },
        "id": "3atIdo6X6rZc"
      },
      "outputs": [],
      "source": [
        "from tensorflow.keras.utils import to_categorical\n",
        "\n",
        "train_path = '/content/drive/MyDrive/dataset/train'\n",
        "val_path = '/content/drive/MyDrive/dataset/val'\n",
        "test_path = '/content/drive/MyDrive/dataset/test'\n",
        "\n",
        "train_images, train_labels, class_names = get_data(train_path)\n",
        "val_images, val_labels, _ = get_data(val_path)\n",
        "test_images, test_labels, _ = get_data(test_path)\n",
        "\n",
        "x_train = np.array(train_images).astype('float32') / 255\n",
        "x_val = np.array(val_images).astype('float32') / 255\n",
        "x_test = np.array(test_images).astype('float32') / 255\n",
        "\n",
        "y_train = to_categorical(train_labels, num_classes=len(class_names))\n",
        "y_val = to_categorical(val_labels, num_classes=len(class_names))\n",
        "y_test = to_categorical(test_labels, num_classes=len(class_names))\n"
      ]
    },
    {
      "cell_type": "code",
      "execution_count": null,
      "metadata": {
        "colab": {
          "background_save": true
        },
        "id": "LHeuQ6bf6rW6",
        "outputId": "4f0beb19-d681-4121-a290-2f38c6e73807"
      },
      "outputs": [
        {
          "name": "stdout",
          "output_type": "stream",
          "text": [
            "(676, 512, 512, 3)\n",
            "(145, 512, 512, 3)\n",
            "(147, 512, 512, 3)\n"
          ]
        }
      ],
      "source": [
        "print(x_train.shape)\n",
        "print(x_val.shape)\n",
        "print(x_test.shape)"
      ]
    },
    {
      "cell_type": "code",
      "execution_count": null,
      "metadata": {
        "colab": {
          "background_save": true
        },
        "id": "IZ3WnP7E6rUq",
        "outputId": "77194e0c-f058-4556-d61e-9e0bc9da6e6d"
      },
      "outputs": [
        {
          "name": "stdout",
          "output_type": "stream",
          "text": [
            "(676, 4)\n",
            "(145, 4)\n",
            "(147, 4)\n"
          ]
        }
      ],
      "source": [
        "print(y_train.shape)\n",
        "print(y_val.shape)\n",
        "print(y_test.shape)"
      ]
    },
    {
      "cell_type": "markdown",
      "metadata": {
        "id": "7Sw4RJwj7dKu"
      },
      "source": [
        "# **Perform data agumentation on train and validation data with different parameters**"
      ]
    },
    {
      "cell_type": "code",
      "execution_count": null,
      "metadata": {
        "colab": {
          "background_save": true
        },
        "id": "SYhY1Q2v6rSN"
      },
      "outputs": [],
      "source": [
        "from tensorflow.keras.preprocessing.image import ImageDataGenerator\n",
        "\n",
        "train_datagen = ImageDataGenerator(\n",
        "    rotation_range=30,\n",
        "    zoom_range=0.2,\n",
        "    horizontal_flip=True\n",
        ")\n",
        "\n",
        "val_datagen = ImageDataGenerator()\n",
        "\n",
        "train_generator = train_datagen.flow(x_train, y_train, batch_size=8, shuffle=True)\n",
        "val_generator = val_datagen.flow(x_val, y_val, batch_size=8, shuffle=False)\n"
      ]
    },
    {
      "cell_type": "markdown",
      "metadata": {
        "id": "mG3pfeI0FcN7"
      },
      "source": [
        "# **CNN model building with Transfer Learning (MobileNet architecture)**"
      ]
    },
    {
      "cell_type": "code",
      "execution_count": null,
      "metadata": {
        "colab": {
          "background_save": true
        },
        "id": "thAW_8CV6rPx",
        "outputId": "94453e89-37e9-44a0-ecc4-033d1be0c1f6"
      },
      "outputs": [
        {
          "name": "stderr",
          "output_type": "stream",
          "text": [
            "/tmp/ipython-input-12-2315590051.py:6: UserWarning: `input_shape` is undefined or non-square, or `rows` is not in [96, 128, 160, 192, 224]. Weights for input shape (224, 224) will be loaded as the default.\n",
            "  mobilenet_base = MobileNetV2(weights='imagenet', include_top=False, input_shape=(512, 512, 3))\n"
          ]
        },
        {
          "name": "stdout",
          "output_type": "stream",
          "text": [
            "Downloading data from https://storage.googleapis.com/tensorflow/keras-applications/mobilenet_v2/mobilenet_v2_weights_tf_dim_ordering_tf_kernels_1.0_224_no_top.h5\n",
            "\u001b[1m9406464/9406464\u001b[0m \u001b[32m━━━━━━━━━━━━━━━━━━━━\u001b[0m\u001b[37m\u001b[0m \u001b[1m0s\u001b[0m 0us/step\n"
          ]
        },
        {
          "data": {
            "text/html": [
              "<pre style=\"white-space:pre;overflow-x:auto;line-height:normal;font-family:Menlo,'DejaVu Sans Mono',consolas,'Courier New',monospace\"><span style=\"font-weight: bold\">Model: \"sequential\"</span>\n",
              "</pre>\n"
            ],
            "text/plain": [
              "\u001b[1mModel: \"sequential\"\u001b[0m\n"
            ]
          },
          "metadata": {},
          "output_type": "display_data"
        },
        {
          "data": {
            "text/html": [
              "<pre style=\"white-space:pre;overflow-x:auto;line-height:normal;font-family:Menlo,'DejaVu Sans Mono',consolas,'Courier New',monospace\">┏━━━━━━━━━━━━━━━━━━━━━━━━━━━━━━━━━┳━━━━━━━━━━━━━━━━━━━━━━━━┳━━━━━━━━━━━━━━━┓\n",
              "┃<span style=\"font-weight: bold\"> Layer (type)                    </span>┃<span style=\"font-weight: bold\"> Output Shape           </span>┃<span style=\"font-weight: bold\">       Param # </span>┃\n",
              "┡━━━━━━━━━━━━━━━━━━━━━━━━━━━━━━━━━╇━━━━━━━━━━━━━━━━━━━━━━━━╇━━━━━━━━━━━━━━━┩\n",
              "│ mobilenetv2_1.00_224            │ (<span style=\"color: #00d7ff; text-decoration-color: #00d7ff\">None</span>, <span style=\"color: #00af00; text-decoration-color: #00af00\">16</span>, <span style=\"color: #00af00; text-decoration-color: #00af00\">16</span>, <span style=\"color: #00af00; text-decoration-color: #00af00\">1280</span>)   │     <span style=\"color: #00af00; text-decoration-color: #00af00\">2,257,984</span> │\n",
              "│ (<span style=\"color: #0087ff; text-decoration-color: #0087ff\">Functional</span>)                    │                        │               │\n",
              "├─────────────────────────────────┼────────────────────────┼───────────────┤\n",
              "│ global_average_pooling2d        │ (<span style=\"color: #00d7ff; text-decoration-color: #00d7ff\">None</span>, <span style=\"color: #00af00; text-decoration-color: #00af00\">1280</span>)           │             <span style=\"color: #00af00; text-decoration-color: #00af00\">0</span> │\n",
              "│ (<span style=\"color: #0087ff; text-decoration-color: #0087ff\">GlobalAveragePooling2D</span>)        │                        │               │\n",
              "├─────────────────────────────────┼────────────────────────┼───────────────┤\n",
              "│ dense (<span style=\"color: #0087ff; text-decoration-color: #0087ff\">Dense</span>)                   │ (<span style=\"color: #00d7ff; text-decoration-color: #00d7ff\">None</span>, <span style=\"color: #00af00; text-decoration-color: #00af00\">128</span>)            │       <span style=\"color: #00af00; text-decoration-color: #00af00\">163,968</span> │\n",
              "├─────────────────────────────────┼────────────────────────┼───────────────┤\n",
              "│ dropout (<span style=\"color: #0087ff; text-decoration-color: #0087ff\">Dropout</span>)               │ (<span style=\"color: #00d7ff; text-decoration-color: #00d7ff\">None</span>, <span style=\"color: #00af00; text-decoration-color: #00af00\">128</span>)            │             <span style=\"color: #00af00; text-decoration-color: #00af00\">0</span> │\n",
              "├─────────────────────────────────┼────────────────────────┼───────────────┤\n",
              "│ dense_1 (<span style=\"color: #0087ff; text-decoration-color: #0087ff\">Dense</span>)                 │ (<span style=\"color: #00d7ff; text-decoration-color: #00d7ff\">None</span>, <span style=\"color: #00af00; text-decoration-color: #00af00\">32</span>)             │         <span style=\"color: #00af00; text-decoration-color: #00af00\">4,128</span> │\n",
              "├─────────────────────────────────┼────────────────────────┼───────────────┤\n",
              "│ dropout_1 (<span style=\"color: #0087ff; text-decoration-color: #0087ff\">Dropout</span>)             │ (<span style=\"color: #00d7ff; text-decoration-color: #00d7ff\">None</span>, <span style=\"color: #00af00; text-decoration-color: #00af00\">32</span>)             │             <span style=\"color: #00af00; text-decoration-color: #00af00\">0</span> │\n",
              "├─────────────────────────────────┼────────────────────────┼───────────────┤\n",
              "│ dense_2 (<span style=\"color: #0087ff; text-decoration-color: #0087ff\">Dense</span>)                 │ (<span style=\"color: #00d7ff; text-decoration-color: #00d7ff\">None</span>, <span style=\"color: #00af00; text-decoration-color: #00af00\">4</span>)              │           <span style=\"color: #00af00; text-decoration-color: #00af00\">132</span> │\n",
              "└─────────────────────────────────┴────────────────────────┴───────────────┘\n",
              "</pre>\n"
            ],
            "text/plain": [
              "┏━━━━━━━━━━━━━━━━━━━━━━━━━━━━━━━━━┳━━━━━━━━━━━━━━━━━━━━━━━━┳━━━━━━━━━━━━━━━┓\n",
              "┃\u001b[1m \u001b[0m\u001b[1mLayer (type)                   \u001b[0m\u001b[1m \u001b[0m┃\u001b[1m \u001b[0m\u001b[1mOutput Shape          \u001b[0m\u001b[1m \u001b[0m┃\u001b[1m \u001b[0m\u001b[1m      Param #\u001b[0m\u001b[1m \u001b[0m┃\n",
              "┡━━━━━━━━━━━━━━━━━━━━━━━━━━━━━━━━━╇━━━━━━━━━━━━━━━━━━━━━━━━╇━━━━━━━━━━━━━━━┩\n",
              "│ mobilenetv2_1.00_224            │ (\u001b[38;5;45mNone\u001b[0m, \u001b[38;5;34m16\u001b[0m, \u001b[38;5;34m16\u001b[0m, \u001b[38;5;34m1280\u001b[0m)   │     \u001b[38;5;34m2,257,984\u001b[0m │\n",
              "│ (\u001b[38;5;33mFunctional\u001b[0m)                    │                        │               │\n",
              "├─────────────────────────────────┼────────────────────────┼───────────────┤\n",
              "│ global_average_pooling2d        │ (\u001b[38;5;45mNone\u001b[0m, \u001b[38;5;34m1280\u001b[0m)           │             \u001b[38;5;34m0\u001b[0m │\n",
              "│ (\u001b[38;5;33mGlobalAveragePooling2D\u001b[0m)        │                        │               │\n",
              "├─────────────────────────────────┼────────────────────────┼───────────────┤\n",
              "│ dense (\u001b[38;5;33mDense\u001b[0m)                   │ (\u001b[38;5;45mNone\u001b[0m, \u001b[38;5;34m128\u001b[0m)            │       \u001b[38;5;34m163,968\u001b[0m │\n",
              "├─────────────────────────────────┼────────────────────────┼───────────────┤\n",
              "│ dropout (\u001b[38;5;33mDropout\u001b[0m)               │ (\u001b[38;5;45mNone\u001b[0m, \u001b[38;5;34m128\u001b[0m)            │             \u001b[38;5;34m0\u001b[0m │\n",
              "├─────────────────────────────────┼────────────────────────┼───────────────┤\n",
              "│ dense_1 (\u001b[38;5;33mDense\u001b[0m)                 │ (\u001b[38;5;45mNone\u001b[0m, \u001b[38;5;34m32\u001b[0m)             │         \u001b[38;5;34m4,128\u001b[0m │\n",
              "├─────────────────────────────────┼────────────────────────┼───────────────┤\n",
              "│ dropout_1 (\u001b[38;5;33mDropout\u001b[0m)             │ (\u001b[38;5;45mNone\u001b[0m, \u001b[38;5;34m32\u001b[0m)             │             \u001b[38;5;34m0\u001b[0m │\n",
              "├─────────────────────────────────┼────────────────────────┼───────────────┤\n",
              "│ dense_2 (\u001b[38;5;33mDense\u001b[0m)                 │ (\u001b[38;5;45mNone\u001b[0m, \u001b[38;5;34m4\u001b[0m)              │           \u001b[38;5;34m132\u001b[0m │\n",
              "└─────────────────────────────────┴────────────────────────┴───────────────┘\n"
            ]
          },
          "metadata": {},
          "output_type": "display_data"
        },
        {
          "data": {
            "text/html": [
              "<pre style=\"white-space:pre;overflow-x:auto;line-height:normal;font-family:Menlo,'DejaVu Sans Mono',consolas,'Courier New',monospace\"><span style=\"font-weight: bold\"> Total params: </span><span style=\"color: #00af00; text-decoration-color: #00af00\">2,426,212</span> (9.26 MB)\n",
              "</pre>\n"
            ],
            "text/plain": [
              "\u001b[1m Total params: \u001b[0m\u001b[38;5;34m2,426,212\u001b[0m (9.26 MB)\n"
            ]
          },
          "metadata": {},
          "output_type": "display_data"
        },
        {
          "data": {
            "text/html": [
              "<pre style=\"white-space:pre;overflow-x:auto;line-height:normal;font-family:Menlo,'DejaVu Sans Mono',consolas,'Courier New',monospace\"><span style=\"font-weight: bold\"> Trainable params: </span><span style=\"color: #00af00; text-decoration-color: #00af00\">168,228</span> (657.14 KB)\n",
              "</pre>\n"
            ],
            "text/plain": [
              "\u001b[1m Trainable params: \u001b[0m\u001b[38;5;34m168,228\u001b[0m (657.14 KB)\n"
            ]
          },
          "metadata": {},
          "output_type": "display_data"
        },
        {
          "data": {
            "text/html": [
              "<pre style=\"white-space:pre;overflow-x:auto;line-height:normal;font-family:Menlo,'DejaVu Sans Mono',consolas,'Courier New',monospace\"><span style=\"font-weight: bold\"> Non-trainable params: </span><span style=\"color: #00af00; text-decoration-color: #00af00\">2,257,984</span> (8.61 MB)\n",
              "</pre>\n"
            ],
            "text/plain": [
              "\u001b[1m Non-trainable params: \u001b[0m\u001b[38;5;34m2,257,984\u001b[0m (8.61 MB)\n"
            ]
          },
          "metadata": {},
          "output_type": "display_data"
        }
      ],
      "source": [
        "from tensorflow.keras.applications import MobileNetV2\n",
        "from tensorflow.keras.models import Sequential\n",
        "from tensorflow.keras.layers import Dense, Dropout, GlobalAveragePooling2D\n",
        "from tensorflow.keras.optimizers import Adam\n",
        "\n",
        "mobilenet_base = MobileNetV2(weights='imagenet', include_top=False, input_shape=(512, 512, 3))\n",
        "mobilenet_base.trainable = False\n",
        "\n",
        "model = Sequential([\n",
        "    mobilenet_base,\n",
        "    GlobalAveragePooling2D(),\n",
        "    Dense(128, activation='relu'),\n",
        "    Dropout(0.3),\n",
        "    Dense(32, activation='relu'),\n",
        "    Dropout(0.2),\n",
        "    Dense(len(class_names), activation='softmax')\n",
        "])\n",
        "\n",
        "model.compile(\n",
        "    optimizer=Adam(),\n",
        "    loss='categorical_crossentropy',\n",
        "    metrics=['accuracy']\n",
        ")\n",
        "\n",
        "model.summary()\n",
        "\n"
      ]
    },
    {
      "cell_type": "markdown",
      "metadata": {
        "id": "JYfhkfZ2FpG4"
      },
      "source": [
        "<h2>Hyperparameter Tuning Summary</h2>\n",
        "\n",
        "<table style=\"font-size:30 px\">\n",
        "  <tr>\n",
        "    <th>Hyperparameter</th>\n",
        "    <th>Tried With</th>\n",
        "  </tr>\n",
        "  <tr>\n",
        "    <td>Learning Rate</td>\n",
        "    <td>0.0001</td>\n",
        "  </tr>\n",
        "  <tr>\n",
        "    <td>Batch Size</td>\n",
        "    <td>4, 8, 32</td>\n",
        "  </tr>\n",
        "  <tr>\n",
        "    <td>Optimizer</td>\n",
        "    <td>Adam</td>\n",
        "  </tr>\n",
        "  <tr>\n",
        "    <td>Dense Units</td>\n",
        "    <td>32, 64, 128, 256, 512</td>\n",
        "  </tr>\n",
        "  <tr>\n",
        "    <td>Dropout Rate</td>\n",
        "    <td>0.2, 0.3, 0.35</td>\n",
        "  </tr>\n",
        "  <tr>\n",
        "    <td>Epochs</td>\n",
        "    <td>10, 30, 50</td>\n",
        "  </tr>\n",
        "</table>\n"
      ]
    },
    {
      "cell_type": "markdown",
      "metadata": {
        "id": "JbFQVFbWENXB"
      },
      "source": [
        "# **Training**\n",
        "\n",
        "\n",
        "\n"
      ]
    },
    {
      "cell_type": "code",
      "execution_count": null,
      "metadata": {
        "colab": {
          "background_save": true
        },
        "id": "g-oogAey6rNT",
        "outputId": "6e19aa9f-b6db-4a84-dbe6-eab8ce74d115"
      },
      "outputs": [
        {
          "name": "stderr",
          "output_type": "stream",
          "text": [
            "/usr/local/lib/python3.11/dist-packages/keras/src/trainers/data_adapters/py_dataset_adapter.py:121: UserWarning: Your `PyDataset` class should call `super().__init__(**kwargs)` in its constructor. `**kwargs` can include `workers`, `use_multiprocessing`, `max_queue_size`. Do not pass these arguments to `fit()`, as they will be ignored.\n",
            "  self._warn_if_super_not_called()\n"
          ]
        },
        {
          "name": "stdout",
          "output_type": "stream",
          "text": [
            "Epoch 1/10\n",
            "\u001b[1m85/85\u001b[0m \u001b[32m━━━━━━━━━━━━━━━━━━━━\u001b[0m\u001b[37m\u001b[0m \u001b[1m65s\u001b[0m 611ms/step - accuracy: 0.4072 - loss: 1.3019 - val_accuracy: 0.8483 - val_loss: 0.6456\n",
            "Epoch 2/10\n",
            "\u001b[1m85/85\u001b[0m \u001b[32m━━━━━━━━━━━━━━━━━━━━\u001b[0m\u001b[37m\u001b[0m \u001b[1m40s\u001b[0m 475ms/step - accuracy: 0.7699 - loss: 0.6618 - val_accuracy: 0.9103 - val_loss: 0.3423\n",
            "Epoch 3/10\n",
            "\u001b[1m85/85\u001b[0m \u001b[32m━━━━━━━━━━━━━━━━━━━━\u001b[0m\u001b[37m\u001b[0m \u001b[1m40s\u001b[0m 465ms/step - accuracy: 0.8438 - loss: 0.4595 - val_accuracy: 0.9241 - val_loss: 0.2173\n",
            "Epoch 4/10\n",
            "\u001b[1m85/85\u001b[0m \u001b[32m━━━━━━━━━━━━━━━━━━━━\u001b[0m\u001b[37m\u001b[0m \u001b[1m40s\u001b[0m 474ms/step - accuracy: 0.8832 - loss: 0.3230 - val_accuracy: 0.9448 - val_loss: 0.1878\n",
            "Epoch 5/10\n",
            "\u001b[1m85/85\u001b[0m \u001b[32m━━━━━━━━━━━━━━━━━━━━\u001b[0m\u001b[37m\u001b[0m \u001b[1m39s\u001b[0m 462ms/step - accuracy: 0.9218 - loss: 0.2277 - val_accuracy: 0.9655 - val_loss: 0.1268\n",
            "Epoch 6/10\n",
            "\u001b[1m85/85\u001b[0m \u001b[32m━━━━━━━━━━━━━━━━━━━━\u001b[0m\u001b[37m\u001b[0m \u001b[1m40s\u001b[0m 475ms/step - accuracy: 0.9553 - loss: 0.1534 - val_accuracy: 0.9655 - val_loss: 0.1352\n",
            "Epoch 7/10\n",
            "\u001b[1m85/85\u001b[0m \u001b[32m━━━━━━━━━━━━━━━━━━━━\u001b[0m\u001b[37m\u001b[0m \u001b[1m40s\u001b[0m 472ms/step - accuracy: 0.9405 - loss: 0.1710 - val_accuracy: 0.9586 - val_loss: 0.1076\n",
            "Epoch 8/10\n",
            "\u001b[1m85/85\u001b[0m \u001b[32m━━━━━━━━━━━━━━━━━━━━\u001b[0m\u001b[37m\u001b[0m \u001b[1m39s\u001b[0m 465ms/step - accuracy: 0.9518 - loss: 0.1215 - val_accuracy: 0.9724 - val_loss: 0.0928\n",
            "Epoch 9/10\n",
            "\u001b[1m85/85\u001b[0m \u001b[32m━━━━━━━━━━━━━━━━━━━━\u001b[0m\u001b[37m\u001b[0m \u001b[1m39s\u001b[0m 463ms/step - accuracy: 0.9639 - loss: 0.1235 - val_accuracy: 0.9586 - val_loss: 0.0953\n",
            "Epoch 10/10\n",
            "\u001b[1m85/85\u001b[0m \u001b[32m━━━━━━━━━━━━━━━━━━━━\u001b[0m\u001b[37m\u001b[0m \u001b[1m40s\u001b[0m 470ms/step - accuracy: 0.9607 - loss: 0.1227 - val_accuracy: 0.9793 - val_loss: 0.0878\n"
          ]
        }
      ],
      "source": [
        "history = model.fit(\n",
        "    train_generator,\n",
        "    epochs=10,\n",
        "    validation_data=val_generator\n",
        ")\n"
      ]
    },
    {
      "cell_type": "markdown",
      "metadata": {
        "id": "I0x5QTjGEUHE"
      },
      "source": [
        "# **Evaluation**"
      ]
    },
    {
      "cell_type": "code",
      "execution_count": null,
      "metadata": {
        "colab": {
          "background_save": true
        },
        "id": "CFRdEyIr6rDy",
        "outputId": "7027e74d-7287-4003-be1c-21cff4125aec"
      },
      "outputs": [
        {
          "name": "stdout",
          "output_type": "stream",
          "text": [
            "\u001b[1m19/19\u001b[0m \u001b[32m━━━━━━━━━━━━━━━━━━━━\u001b[0m\u001b[37m\u001b[0m \u001b[1m4s\u001b[0m 222ms/step - accuracy: 0.9945 - loss: 0.0380\n",
            "Test Accuracy: 99.32%\n"
          ]
        }
      ],
      "source": [
        "\n",
        "test_datagen = ImageDataGenerator()\n",
        "test_generator = test_datagen.flow(x_test, y_test, batch_size=8, shuffle=False)\n",
        "\n",
        "test_loss, test_acc =model.evaluate(test_generator)\n",
        "print(f\"Test Accuracy: {test_acc * 100:.2f}%\")\n"
      ]
    },
    {
      "cell_type": "markdown",
      "metadata": {
        "id": "fkMYJJd8EcG_"
      },
      "source": [
        "# **Confusion Matrix**"
      ]
    },
    {
      "cell_type": "code",
      "execution_count": null,
      "metadata": {
        "colab": {
          "background_save": true
        },
        "id": "4ZBxy3K16rAa",
        "outputId": "acf8dcc7-bd44-4e1d-d7ba-01eb5b6ea98b"
      },
      "outputs": [
        {
          "name": "stdout",
          "output_type": "stream",
          "text": [
            "\u001b[1m5/5\u001b[0m \u001b[32m━━━━━━━━━━━━━━━━━━━━\u001b[0m\u001b[37m\u001b[0m \u001b[1m18s\u001b[0m 2s/step\n"
          ]
        },
        {
          "data": {
            "image/png": "[encoded data removed]",
            "text/plain": [
              "<Figure size 640x480 with 2 Axes>"
            ]
          },
          "metadata": {},
          "output_type": "display_data"
        }
      ],
      "source": [
        "from sklearn.metrics import confusion_matrix, classification_report\n",
        "import seaborn as sns\n",
        "import matplotlib.pyplot as plt\n",
        "\n",
        "import numpy as np\n",
        "\n",
        "y_pred = model.predict(x_test)\n",
        "y_pred_labels = np.argmax(y_pred, axis=1)\n",
        "y_true_labels = np.argmax(y_test, axis=1)\n",
        "\n",
        "cm = confusion_matrix(y_true_labels, y_pred_labels)\n",
        "sns.heatmap(cm, annot=True, fmt='d', xticklabels=class_names, yticklabels=class_names)\n",
        "plt.xlabel(\"Predicted\")\n",
        "plt.ylabel(\"True\")\n",
        "plt.title(\"Confusion Matrix\")\n",
        "plt.show()\n",
        "\n",
        "\n"
      ]
    },
    {
      "cell_type": "markdown",
      "metadata": {
        "id": "YaZN49YNEkoi"
      },
      "source": [
        "# **Classification Report**"
      ]
    },
    {
      "cell_type": "code",
      "execution_count": null,
      "metadata": {
        "colab": {
          "background_save": true
        },
        "id": "U_DGmrMpEjDh",
        "outputId": "bf135ee4-37a4-4ed9-f1d3-46580ea17484"
      },
      "outputs": [
        {
          "name": "stdout",
          "output_type": "stream",
          "text": [
            "              precision    recall  f1-score   support\n",
            "\n",
            "         100       0.98      1.00      0.99        46\n",
            "         200       1.00      0.97      0.98        31\n",
            "        2000       1.00      1.00      1.00        36\n",
            "         500       1.00      1.00      1.00        34\n",
            "\n",
            "    accuracy                           0.99       147\n",
            "   macro avg       0.99      0.99      0.99       147\n",
            "weighted avg       0.99      0.99      0.99       147\n",
            "\n"
          ]
        }
      ],
      "source": [
        "print(classification_report(y_true_labels, y_pred_labels, target_names=class_names))"
      ]
    },
    {
      "cell_type": "markdown",
      "metadata": {
        "id": "xwofISKnEp7o"
      },
      "source": [
        "# **Plot Train_Accuracy VS Validation_Accuracy**"
      ]
    },
    {
      "cell_type": "code",
      "execution_count": null,
      "metadata": {
        "colab": {
          "background_save": true
        },
        "id": "164WVqNcDc5-",
        "outputId": "8a2a7239-0b28-468a-ffc6-bff27a26315f"
      },
      "outputs": [
        {
          "data": {
            "image/png": "[encoded data removed]",
            "text/plain": [
              "<Figure size 640x480 with 1 Axes>"
            ]
          },
          "metadata": {},
          "output_type": "display_data"
        }
      ],
      "source": [
        "import matplotlib.pyplot as plt\n",
        "\n",
        "plt.plot(history.history['accuracy'], label='train acc')\n",
        "plt.plot(history.history['val_accuracy'], label='val acc')\n",
        "plt.legend()\n",
        "plt.show()\n"
      ]
    },
    {
      "cell_type": "markdown",
      "metadata": {
        "id": "8Kwt1xUWE2cR"
      },
      "source": [
        "# **Save Model**"
      ]
    },
    {
      "cell_type": "code",
      "execution_count": null,
      "metadata": {
        "id": "tx32YzMD6q9q"
      },
      "outputs": [],
      "source": [
        "\n",
        "# model.save('/content/drive/MyDrive/currency_note_model.h5')\n",
        "# print(\" Model saved!\")\n"
      ]
    },
    {
      "cell_type": "markdown",
      "metadata": {
        "id": "tETEY7BEE86K"
      },
      "source": [
        "# **Show Random Predictions**"
      ]
    },
    {
      "cell_type": "code",
      "execution_count": null,
      "metadata": {
        "id": "1NFM1HMEDEIt"
      },
      "outputs": [],
      "source": [
        "import numpy as np\n",
        "import matplotlib.pyplot as plt\n",
        "\n",
        "y_hat = model.predict(x_test)\n",
        "y_pred = np.argmax(y_hat, axis=1)\n",
        "y_true = np.argmax(y_test, axis=1)\n",
        "\n",
        "fig = plt.figure(figsize=(20, 8))\n",
        "for i, idx in enumerate(np.random.choice(len(x_test), size=32, replace=False)):\n",
        "    ax = fig.add_subplot(4, 8, i+1, xticks=[], yticks=[])\n",
        "    ax.imshow(x_test[idx])\n",
        "\n",
        "    pred_label = class_names[y_pred[idx]]\n",
        "    true_label = class_names[y_true[idx]]\n",
        "\n",
        "    ax.set_title(f\"{pred_label} ({true_label})\",\n",
        "                 color=(\"blue\" if pred_label == true_label else \"red\"))\n",
        "\n",
        "plt.tight_layout()\n",
        "plt.show()\n"
      ]
    },
    {
      "cell_type": "markdown",
      "metadata": {
        "id": "-shZdGsY6tB8"
      },
      "source": []
    },
    {
      "cell_type": "code",
      "execution_count": null,
      "metadata": {
        "id": "LWB9yqaChaeP"
      },
      "outputs": [],
      "source": [
        "from tensorflow.keras.models import load_model\n",
        "\n",
        "model=load_model('/content/drive/MyDrive/currency_note_model.h5')"
      ]
    },
    {
      "cell_type": "markdown",
      "metadata": {
        "id": "ping7BxaFNJs"
      },
      "source": [
        "# **Prediction with Out Side Images**"
      ]
    },
    {
      "cell_type": "code",
      "execution_count": null,
      "metadata": {
        "id": "oU8whKzIDNKa"
      },
      "outputs": [],
      "source": [
        "import cv2\n",
        "import numpy as np\n",
        "import os\n",
        "\n",
        "def predict_single_image(image_path):\n",
        "    img = cv2.imread(image_path)\n",
        "    if img is None:\n",
        "        print(\"Image not found or invalid.\")\n",
        "        return\n",
        "\n",
        "    img = cv2.resize(img[..., ::-1], (512, 512))\n",
        "    img = np.expand_dims(img, axis=0).astype('float32') / 255.0\n",
        "\n",
        "    prediction = model.predict(img)\n",
        "    train_path = '/content/drive/MyDrive/dataset/train'\n",
        "    class_names = sorted(os.listdir(train_path))\n",
        "\n",
        "    predicted_class = class_names[np.argmax(prediction)]\n",
        "    print(f\"Predicted class: {predicted_class}\")\n",
        "\n",
        "\n",
        "predict_single_image('/content/drive/MyDrive/100.jpg')"
      ]
    },
    {
      "cell_type": "code",
      "execution_count": null,
      "metadata": {
        "id": "WEBJKTsPhIJO"
      },
      "outputs": [],
      "source": [
        "import cv2\n",
        "import numpy as np\n",
        "import os\n",
        "\n",
        "def predict_single_image(image_path):\n",
        "    img = cv2.imread(image_path)\n",
        "    if img is None:\n",
        "        print(\"Image not found or invalid.\")\n",
        "        return\n",
        "\n",
        "    img = cv2.resize(img[..., ::-1], (512, 512))\n",
        "    img = np.expand_dims(img, axis=0).astype('float32') / 255.0\n",
        "\n",
        "    prediction = model.predict(img)\n",
        "    train_path = '/content/drive/MyDrive/dataset/train'\n",
        "    class_names = sorted(os.listdir(train_path))\n",
        "\n",
        "    predicted_class = class_names[np.argmax(prediction)]\n",
        "    print(f\"Predicted class: {predicted_class}\")\n",
        "\n",
        "\n",
        "predict_single_image('/content/drive/MyDrive/200.jpg')"
      ]
    },
    {
      "cell_type": "code",
      "execution_count": null,
      "metadata": {
        "id": "PAnv3XLi7mvp"
      },
      "outputs": [],
      "source": [
        "import cv2\n",
        "import numpy as np\n",
        "import os\n",
        "\n",
        "def predict_single_image(image_path):\n",
        "    img = cv2.imread(image_path)\n",
        "    if img is None:\n",
        "        print(\"Image not found or invalid.\")\n",
        "        return\n",
        "\n",
        "    img = cv2.resize(img[..., ::-1], (512, 512))\n",
        "    img = np.expand_dims(img, axis=0).astype('float32') / 255.0\n",
        "\n",
        "    prediction = model.predict(img)\n",
        "    train_path = '/content/drive/MyDrive/dataset/train'\n",
        "    class_names = sorted(os.listdir(train_path))\n",
        "\n",
        "    predicted_class = class_names[np.argmax(prediction)]\n",
        "    print(f\"Predicted class: {predicted_class}\")\n",
        "\n",
        "\n",
        "predict_single_image('/content/drive/MyDrive/500.jpg')"
      ]
    },
    {
      "cell_type": "code",
      "execution_count": null,
      "metadata": {
        "id": "2DLnVFyn7o2U"
      },
      "outputs": [],
      "source": [
        "import cv2\n",
        "import numpy as np\n",
        "import os\n",
        "\n",
        "def predict_single_image(image_path):\n",
        "    img = cv2.imread(image_path)\n",
        "    if img is None:\n",
        "        print(\"Image not found or invalid.\")\n",
        "        return\n",
        "\n",
        "    img = cv2.resize(img[..., ::-1], (512, 512))\n",
        "    img = np.expand_dims(img, axis=0).astype('float32') / 255.0\n",
        "\n",
        "    prediction = model.predict(img)\n",
        "    train_path = '/content/drive/MyDrive/dataset/train'\n",
        "    class_names = sorted(os.listdir(train_path))\n",
        "\n",
        "    predicted_class = class_names[np.argmax(prediction)]\n",
        "    print(f\"Predicted class: {predicted_class}\")\n",
        "\n",
        "\n",
        "predict_single_image('/content/drive/MyDrive/2000.jpg')"
      ]
    },
    {
      "cell_type": "code",
      "execution_count": null,
      "metadata": {
        "id": "CT06WNgy7q61"
      },
      "outputs": [],
      "source": []
    }
  ],
  "metadata": {
    "accelerator": "GPU",
    "colab": {
      "gpuType": "T4",
      "provenance": []
    },
    "kernelspec": {
      "display_name": "Python 3",
      "name": "python3"
    },
    "language_info": {
      "name": "python"
    }
  },
  "nbformat": 4,
  "nbformat_minor": 0
}